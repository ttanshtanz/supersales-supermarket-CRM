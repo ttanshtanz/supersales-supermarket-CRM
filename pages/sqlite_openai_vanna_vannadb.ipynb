{
 "cells": [
  {
   "cell_type": "markdown",
   "id": "f11f462f-f113-5e6d-9114-eef13db9d21a",
   "metadata": {
    "id": "f11f462f-f113-5e6d-9114-eef13db9d21a"
   },
   "source": [
    "# Generating SQL for Postgres using OpenAI via Vanna.AI (Recommended), Vanna Hosted Vector DB (Recommended)\n",
    "This notebook runs through the process of using the `vanna` Python package to generate SQL using AI (RAG + LLMs) including connecting to a database and training. If you're not ready to train on your own database, you can still try it using a sample [SQLite database](app.md)."
   ]
  },
  {
   "cell_type": "markdown",
   "id": "09d8642a-86ae-548a-9d57-25a1e7c1d144",
   "metadata": {
    "id": "09d8642a-86ae-548a-9d57-25a1e7c1d144"
   },
   "source": [
    "\n",
    "<h3 class=\"mb-5 text-lg font-medium text-gray-900 dark:text-white\">Which LLM do you want to use?</h3>\n",
    "<ul class=\"grid w-full gap-6 md:grid-cols-2\">\n",
    "    \n",
    "  <li>\n",
    "    <span class=\"inline-flex w-full cursor-pointer items-center justify-between rounded-lg border bg-white p-5 border-blue-600 text-blue-600 dark:bg-gray-800 dark:text-blue-500\">\n",
    "      <div class=\"block\">\n",
    "        <div class=\"w-full text-lg font-semibold\"><span class=\"hidden\">[Selected]</span> OpenAI via Vanna.AI (Recommended)</div>\n",
    "        <small class=\"w-full\">Use Vanna.AI for free to generate your queries</small>\n",
    "      </div>\n",
    "    </span>\n",
    "  </li>\n",
    "  \n",
    "  <li>\n",
    "    <a href=\"../postgres-openai-standard-vannadb/\" class=\"inline-flex w-full cursor-pointer items-center justify-between rounded-lg border border-gray-200 bg-white p-5 text-gray-500 hover:bg-gray-100 hover:text-gray-600 peer-checked:border-blue-600 peer-checked:text-blue-600 dark:border-gray-700 dark:bg-gray-800 dark:text-gray-400 dark:hover:bg-gray-700 dark:hover:text-gray-300 dark:peer-checked:text-blue-500\">\n",
    "      <div class=\"block\">\n",
    "        <div class=\"w-full text-lg font-semibold\">OpenAI</div>\n",
    "        <small class=\"w-full\">Use OpenAI with your own API key</small>\n",
    "      </div>\n",
    "    </a>\n",
    "  </li>\n",
    "    \n",
    "  <li>\n",
    "    <a href=\"../postgres-openai-azure-vannadb/\" class=\"inline-flex w-full cursor-pointer items-center justify-between rounded-lg border border-gray-200 bg-white p-5 text-gray-500 hover:bg-gray-100 hover:text-gray-600 peer-checked:border-blue-600 peer-checked:text-blue-600 dark:border-gray-700 dark:bg-gray-800 dark:text-gray-400 dark:hover:bg-gray-700 dark:hover:text-gray-300 dark:peer-checked:text-blue-500\">\n",
    "      <div class=\"block\">\n",
    "        <div class=\"w-full text-lg font-semibold\">Azure OpenAI</div>\n",
    "        <small class=\"w-full\">If you have OpenAI models deployed on Azure</small>\n",
    "      </div>\n",
    "    </a>\n",
    "  </li>\n",
    "    \n",
    "  <li>\n",
    "    <a href=\"../postgres-anthropic-vannadb/\" class=\"inline-flex w-full cursor-pointer items-center justify-between rounded-lg border border-gray-200 bg-white p-5 text-gray-500 hover:bg-gray-100 hover:text-gray-600 peer-checked:border-blue-600 peer-checked:text-blue-600 dark:border-gray-700 dark:bg-gray-800 dark:text-gray-400 dark:hover:bg-gray-700 dark:hover:text-gray-300 dark:peer-checked:text-blue-500\">\n",
    "      <div class=\"block\">\n",
    "        <div class=\"w-full text-lg font-semibold\">Anthropic</div>\n",
    "        <small class=\"w-full\">Use Anthropics Claude with your Anthropic API Key</small>\n",
    "      </div>\n",
    "    </a>\n",
    "  </li>\n",
    "    \n",
    "  <li>\n",
    "    <a href=\"../postgres-ollama-vannadb/\" class=\"inline-flex w-full cursor-pointer items-center justify-between rounded-lg border border-gray-200 bg-white p-5 text-gray-500 hover:bg-gray-100 hover:text-gray-600 peer-checked:border-blue-600 peer-checked:text-blue-600 dark:border-gray-700 dark:bg-gray-800 dark:text-gray-400 dark:hover:bg-gray-700 dark:hover:text-gray-300 dark:peer-checked:text-blue-500\">\n",
    "      <div class=\"block\">\n",
    "        <div class=\"w-full text-lg font-semibold\">Ollama</div>\n",
    "        <small class=\"w-full\">Use Ollama locally for free. Requires additional setup.</small>\n",
    "      </div>\n",
    "    </a>\n",
    "  </li>\n",
    "    \n",
    "  <li>\n",
    "    <a href=\"../postgres-gemini-vannadb/\" class=\"inline-flex w-full cursor-pointer items-center justify-between rounded-lg border border-gray-200 bg-white p-5 text-gray-500 hover:bg-gray-100 hover:text-gray-600 peer-checked:border-blue-600 peer-checked:text-blue-600 dark:border-gray-700 dark:bg-gray-800 dark:text-gray-400 dark:hover:bg-gray-700 dark:hover:text-gray-300 dark:peer-checked:text-blue-500\">\n",
    "      <div class=\"block\">\n",
    "        <div class=\"w-full text-lg font-semibold\">Google Gemini</div>\n",
    "        <small class=\"w-full\">Use Google Gemini with your Gemini or Vertex API Key</small>\n",
    "      </div>\n",
    "    </a>\n",
    "  </li>\n",
    "    \n",
    "  <li>\n",
    "    <a href=\"../postgres-mistral-vannadb/\" class=\"inline-flex w-full cursor-pointer items-center justify-between rounded-lg border border-gray-200 bg-white p-5 text-gray-500 hover:bg-gray-100 hover:text-gray-600 peer-checked:border-blue-600 peer-checked:text-blue-600 dark:border-gray-700 dark:bg-gray-800 dark:text-gray-400 dark:hover:bg-gray-700 dark:hover:text-gray-300 dark:peer-checked:text-blue-500\">\n",
    "      <div class=\"block\">\n",
    "        <div class=\"w-full text-lg font-semibold\">Mistral via Mistral API</div>\n",
    "        <small class=\"w-full\">If you have a Mistral API key</small>\n",
    "      </div>\n",
    "    </a>\n",
    "  </li>\n",
    "    \n",
    "  <li>\n",
    "    <a href=\"../postgres-other-llm-vannadb/\" class=\"inline-flex w-full cursor-pointer items-center justify-between rounded-lg border border-gray-200 bg-white p-5 text-gray-500 hover:bg-gray-100 hover:text-gray-600 peer-checked:border-blue-600 peer-checked:text-blue-600 dark:border-gray-700 dark:bg-gray-800 dark:text-gray-400 dark:hover:bg-gray-700 dark:hover:text-gray-300 dark:peer-checked:text-blue-500\">\n",
    "      <div class=\"block\">\n",
    "        <div class=\"w-full text-lg font-semibold\">Other LLM</div>\n",
    "        <small class=\"w-full\">If you have a different LLM model</small>\n",
    "      </div>\n",
    "    </a>\n",
    "  </li>\n",
    "    \n",
    "</ul>\n",
    "    "
   ]
  },
  {
   "cell_type": "markdown",
   "id": "79121183-0f87-5578-914b-d46ba8da261e",
   "metadata": {
    "id": "79121183-0f87-5578-914b-d46ba8da261e"
   },
   "source": [
    "\n",
    "<h3 class=\"mb-5 text-lg font-medium text-gray-900 dark:text-white\">Where do you want to store the 'training' data?</h3>\n",
    "<ul class=\"grid w-full gap-6 md:grid-cols-2\">\n",
    "    \n",
    "  <li>\n",
    "    <span class=\"inline-flex w-full cursor-pointer items-center justify-between rounded-lg border bg-white p-5 border-blue-600 text-blue-600 dark:bg-gray-800 dark:text-blue-500\">\n",
    "      <div class=\"block\">\n",
    "        <div class=\"w-full text-lg font-semibold\"><span class=\"hidden\">[Selected]</span> Vanna Hosted Vector DB (Recommended)</div>\n",
    "        <small class=\"w-full\">Use Vanna.AIs hosted vector database (pgvector) for free. This is usable across machines with no additional setup.</small>\n",
    "      </div>\n",
    "    </span>\n",
    "  </li>\n",
    "  \n",
    "  <li>\n",
    "    <a href=\"../postgres-openai-standard-chromadb/\" class=\"inline-flex w-full cursor-pointer items-center justify-between rounded-lg border border-gray-200 bg-white p-5 text-gray-500 hover:bg-gray-100 hover:text-gray-600 peer-checked:border-blue-600 peer-checked:text-blue-600 dark:border-gray-700 dark:bg-gray-800 dark:text-gray-400 dark:hover:bg-gray-700 dark:hover:text-gray-300 dark:peer-checked:text-blue-500\">\n",
    "      <div class=\"block\">\n",
    "        <div class=\"w-full text-lg font-semibold\">ChromaDB</div>\n",
    "        <small class=\"w-full\">Use ChromaDBs open-source vector database for free locally. No additional setup is necessary -- all database files will be created and stored locally.</small>\n",
    "      </div>\n",
    "    </a>\n",
    "  </li>\n",
    "    \n",
    "  <li>\n",
    "    <a href=\"../postgres-openai-standard-qdrant/\" class=\"inline-flex w-full cursor-pointer items-center justify-between rounded-lg border border-gray-200 bg-white p-5 text-gray-500 hover:bg-gray-100 hover:text-gray-600 peer-checked:border-blue-600 peer-checked:text-blue-600 dark:border-gray-700 dark:bg-gray-800 dark:text-gray-400 dark:hover:bg-gray-700 dark:hover:text-gray-300 dark:peer-checked:text-blue-500\">\n",
    "      <div class=\"block\">\n",
    "        <div class=\"w-full text-lg font-semibold\">Qdrant</div>\n",
    "        <small class=\"w-full\">Use Qdrants open-source vector database</small>\n",
    "      </div>\n",
    "    </a>\n",
    "  </li>\n",
    "    \n",
    "  <li>\n",
    "    <a href=\"../postgres-openai-standard-marqo/\" class=\"inline-flex w-full cursor-pointer items-center justify-between rounded-lg border border-gray-200 bg-white p-5 text-gray-500 hover:bg-gray-100 hover:text-gray-600 peer-checked:border-blue-600 peer-checked:text-blue-600 dark:border-gray-700 dark:bg-gray-800 dark:text-gray-400 dark:hover:bg-gray-700 dark:hover:text-gray-300 dark:peer-checked:text-blue-500\">\n",
    "      <div class=\"block\">\n",
    "        <div class=\"w-full text-lg font-semibold\">Marqo</div>\n",
    "        <small class=\"w-full\">Use Marqo locally for free. Requires additional setup. Or use their hosted option.</small>\n",
    "      </div>\n",
    "    </a>\n",
    "  </li>\n",
    "    \n",
    "  <li>\n",
    "    <a href=\"../postgres-openai-standard-other-vectordb/\" class=\"inline-flex w-full cursor-pointer items-center justify-between rounded-lg border border-gray-200 bg-white p-5 text-gray-500 hover:bg-gray-100 hover:text-gray-600 peer-checked:border-blue-600 peer-checked:text-blue-600 dark:border-gray-700 dark:bg-gray-800 dark:text-gray-400 dark:hover:bg-gray-700 dark:hover:text-gray-300 dark:peer-checked:text-blue-500\">\n",
    "      <div class=\"block\">\n",
    "        <div class=\"w-full text-lg font-semibold\">Other VectorDB</div>\n",
    "        <small class=\"w-full\">Use any other vector database. Requires additional setup.</small>\n",
    "      </div>\n",
    "    </a>\n",
    "  </li>\n",
    "    \n",
    "</ul>\n",
    "    "
   ]
  },
  {
   "cell_type": "markdown",
   "id": "ee059407-58ac-50fa-843a-7b876328df13",
   "metadata": {
    "id": "ee059407-58ac-50fa-843a-7b876328df13"
   },
   "source": [
    "## Setup"
   ]
  },
  {
   "cell_type": "code",
   "execution_count": 6,
   "id": "bdef8f4c-bd17-56af-8840-6452768ea0f3",
   "metadata": {
    "id": "bdef8f4c-bd17-56af-8840-6452768ea0f3"
   },
   "outputs": [
    {
     "name": "stdout",
     "output_type": "stream",
     "text": [
      "Requirement already satisfied: vanna in d:\\sales\\sale\\lib\\site-packages (0.5.5)\n",
      "Requirement already satisfied: kaleido in d:\\sales\\sale\\lib\\site-packages (from vanna) (0.2.1)\n",
      "Requirement already satisfied: pandas in d:\\sales\\sale\\lib\\site-packages (from vanna) (2.2.2)\n",
      "Requirement already satisfied: plotly in d:\\sales\\sale\\lib\\site-packages (from vanna) (5.22.0)\n",
      "Requirement already satisfied: sqlalchemy in d:\\sales\\sale\\lib\\site-packages (from vanna) (2.0.30)\n",
      "Requirement already satisfied: flask-sock in d:\\sales\\sale\\lib\\site-packages (from vanna) (0.7.0)\n",
      "Requirement already satisfied: sqlparse in d:\\sales\\sale\\lib\\site-packages (from vanna) (0.5.0)\n",
      "Requirement already satisfied: flask in d:\\sales\\sale\\lib\\site-packages (from vanna) (3.0.3)\n",
      "Requirement already satisfied: requests in d:\\sales\\sale\\lib\\site-packages (from vanna) (2.32.2)\n",
      "Requirement already satisfied: tabulate in d:\\sales\\sale\\lib\\site-packages (from vanna) (0.9.0)\n",
      "Requirement already satisfied: blinker>=1.6.2 in d:\\sales\\sale\\lib\\site-packages (from flask->vanna) (1.8.2)\n",
      "Requirement already satisfied: Jinja2>=3.1.2 in d:\\sales\\sale\\lib\\site-packages (from flask->vanna) (3.1.4)\n",
      "Requirement already satisfied: click>=8.1.3 in d:\\sales\\sale\\lib\\site-packages (from flask->vanna) (8.1.7)\n",
      "Requirement already satisfied: itsdangerous>=2.1.2 in d:\\sales\\sale\\lib\\site-packages (from flask->vanna) (2.2.0)\n",
      "Requirement already satisfied: Werkzeug>=3.0.0 in d:\\sales\\sale\\lib\\site-packages (from flask->vanna) (3.0.3)\n",
      "Requirement already satisfied: simple-websocket>=0.5.1 in d:\\sales\\sale\\lib\\site-packages (from flask-sock->vanna) (1.0.0)\n",
      "Requirement already satisfied: numpy>=1.22.4 in d:\\sales\\sale\\lib\\site-packages (from pandas->vanna) (1.26.4)\n",
      "Requirement already satisfied: python-dateutil>=2.8.2 in d:\\sales\\sale\\lib\\site-packages (from pandas->vanna) (2.9.0.post0)\n",
      "Requirement already satisfied: pytz>=2020.1 in d:\\sales\\sale\\lib\\site-packages (from pandas->vanna) (2024.1)\n",
      "Requirement already satisfied: tzdata>=2022.7 in d:\\sales\\sale\\lib\\site-packages (from pandas->vanna) (2024.1)\n",
      "Requirement already satisfied: tenacity>=6.2.0 in d:\\sales\\sale\\lib\\site-packages (from plotly->vanna) (8.3.0)\n",
      "Requirement already satisfied: packaging in d:\\sales\\sale\\lib\\site-packages (from plotly->vanna) (24.0)\n",
      "Requirement already satisfied: urllib3<3,>=1.21.1 in d:\\sales\\sale\\lib\\site-packages (from requests->vanna) (2.2.1)\n",
      "Requirement already satisfied: certifi>=2017.4.17 in d:\\sales\\sale\\lib\\site-packages (from requests->vanna) (2024.2.2)\n",
      "Requirement already satisfied: charset-normalizer<4,>=2 in d:\\sales\\sale\\lib\\site-packages (from requests->vanna) (3.3.2)\n",
      "Requirement already satisfied: idna<4,>=2.5 in d:\\sales\\sale\\lib\\site-packages (from requests->vanna) (3.7)\n",
      "Requirement already satisfied: typing-extensions>=4.6.0 in d:\\sales\\sale\\lib\\site-packages (from sqlalchemy->vanna) (4.12.0)\n",
      "Requirement already satisfied: greenlet!=0.4.17 in d:\\sales\\sale\\lib\\site-packages (from sqlalchemy->vanna) (3.0.3)\n",
      "Requirement already satisfied: colorama in d:\\sales\\sale\\lib\\site-packages (from click>=8.1.3->flask->vanna) (0.4.6)\n",
      "Requirement already satisfied: MarkupSafe>=2.0 in d:\\sales\\sale\\lib\\site-packages (from Jinja2>=3.1.2->flask->vanna) (2.1.5)\n",
      "Requirement already satisfied: six>=1.5 in d:\\sales\\sale\\lib\\site-packages (from python-dateutil>=2.8.2->pandas->vanna) (1.16.0)\n",
      "Requirement already satisfied: wsproto in d:\\sales\\sale\\lib\\site-packages (from simple-websocket>=0.5.1->flask-sock->vanna) (1.2.0)\n",
      "Requirement already satisfied: h11<1,>=0.9.0 in d:\\sales\\sale\\lib\\site-packages (from wsproto->simple-websocket>=0.5.1->flask-sock->vanna) (0.14.0)\n"
     ]
    },
    {
     "name": "stderr",
     "output_type": "stream",
     "text": [
      "WARNING: You are using pip version 22.0.4; however, version 24.0 is available.\n",
      "You should consider upgrading via the 'D:\\Sales\\sale\\Scripts\\python.exe -m pip install --upgrade pip' command.\n"
     ]
    }
   ],
   "source": [
    "!pip install vanna"
   ]
  },
  {
   "cell_type": "code",
   "execution_count": 1,
   "id": "6160c274-caf4-537e-9a02-f6a1d7022a2c",
   "metadata": {
    "id": "6160c274-caf4-537e-9a02-f6a1d7022a2c"
   },
   "outputs": [],
   "source": [
    "import vanna\n",
    "from vanna.remote import VannaDefault"
   ]
  },
  {
   "cell_type": "code",
   "execution_count": 2,
   "id": "7cd78528-b0b0-5428-901c-6b5dc2158ef9",
   "metadata": {
    "id": "7cd78528-b0b0-5428-901c-6b5dc2158ef9"
   },
   "outputs": [],
   "source": [
    "api_key = 'fcaea5a7cc08496eb79f31804da82b8e'\n",
    "vanna_model_name = 'super_sales'\n",
    "vn = VannaDefault(model=vanna_model_name, api_key=api_key)"
   ]
  },
  {
   "cell_type": "code",
   "execution_count": 3,
   "id": "38707ef4-8063-5170-873a-45e63c1928a7",
   "metadata": {
    "id": "38707ef4-8063-5170-873a-45e63c1928a7"
   },
   "outputs": [],
   "source": [
    "vn.connect_to_sqlite('D:\\Sales\\sale\\orders.db')"
   ]
  },
  {
   "cell_type": "markdown",
   "id": "f06c0e89-83f7-5ad1-8f6e-a64cf5bd8e60",
   "metadata": {
    "id": "f06c0e89-83f7-5ad1-8f6e-a64cf5bd8e60"
   },
   "source": [
    "## Training\n",
    "You only need to train once. Do not train again unless you want to add more training data."
   ]
  },
  {
   "cell_type": "code",
   "execution_count": 12,
   "id": "902565d3-ccec-419b-b8ee-e28f9f1f0028",
   "metadata": {},
   "outputs": [
    {
     "name": "stdout",
     "output_type": "stream",
     "text": [
      "Adding ddl: CREATE TABLE \"orders\" (\n",
      "\"order_id\" TEXT,\n",
      "  \"customer_id\" TEXT,\n",
      "  \"order_status\" TEXT,\n",
      "  \"order_purchase_timestamp\" TEXT,\n",
      "  \"order_delivered_carrier_date\" TEXT,\n",
      "  \"order_delivered_customer_date\" TEXT,\n",
      "  \"order_estimated_delivery_date\" TEXT,\n",
      "  \"shipping_limit_date\" TEXT,\n",
      "  \"price\" REAL,\n",
      "  \"freight_value\" REAL,\n",
      "  \"product_category\" TEXT,\n",
      "  \"product_weight_g\" REAL,\n",
      "  \"product_length_cm\" REAL,\n",
      "  \"product_height_cm\" REAL,\n",
      "  \"product_width_cm\" REAL,\n",
      "  \"customer_city\" TEXT,\n",
      "  \"customer_state\" TEXT,\n",
      "  \"seller_city\" TEXT,\n",
      "  \"seller_state\" TEXT,\n",
      "  \"review_score\" REAL,\n",
      "  \"review_answer_timestamp\" TEXT,\n",
      "  \"review_comment_message\" TEXT,\n",
      "  \"sibert_result\" TEXT\n",
      ")\n"
     ]
    }
   ],
   "source": [
    "df_ddl = vn.run_sql(\"SELECT type, sql FROM sqlite_master WHERE sql is not null\")\n",
    "\n",
    "for ddl in df_ddl['sql'].to_list():\n",
    "  vn.train(ddl=ddl)"
   ]
  },
  {
   "cell_type": "code",
   "execution_count": 54,
   "id": "e599aae5-c702-4945-a8d9-cd7958140f03",
   "metadata": {},
   "outputs": [
    {
     "name": "stdout",
     "output_type": "stream",
     "text": [
      "Adding ddl: CREATE TABLE IF NOT EXISTS orders (\n",
      "          order_id TEXT,\n",
      "          customer_id TEXT,\n",
      "          order_status TEXT,\n",
      "          order_purchase_timestamp TEXT,\n",
      "          order_delivered_carrier_date TEXT,\n",
      "          order_delivered_customer_date TEXT,\n",
      "          order_estimated_delivery_date TEXT,\n",
      "          shipping_limit_date TEXT,\n",
      "          price REAL,\n",
      "          freight_value REAL,\n",
      "          product_categoryTEXT,\n",
      "          product_weight_g REAL,\n",
      "          product_length_cm REAL,\n",
      "          product_height_cm REAL,\n",
      "          product_width_cm REAL,\n",
      "          customer_city TEXT,\n",
      "          customer_state TEXT,\n",
      "          seller_city TEXT,\n",
      "          seller_state TEXT,\n",
      "          review_score text,\n",
      "          review_answer_timestamp TEXT,\n",
      "          review_comment_message TEXT,\n",
      "          sibert_result TEXT\n",
      "    )\n",
      "\n",
      "Adding documentation....\n",
      "Question generated with sql: What are the details of the order with the order ID '3b697a20d9e427646d92567910af6d57'? \n",
      "Adding SQL...\n"
     ]
    },
    {
     "data": {
      "text/plain": [
       "'4e36cad5f3ddf65339666e8eec27caa2-sql'"
      ]
     },
     "execution_count": 54,
     "metadata": {},
     "output_type": "execute_result"
    }
   ],
   "source": [
    "# The following are methods for adding training data. Make sure you modify the examples to match your database.\n",
    "\n",
    "# DDL statements are powerful because they specify table names, colume names, types, and potentially relationships\n",
    "vn.train(ddl=\"\"\"CREATE TABLE IF NOT EXISTS orders (\n",
    "          order_id TEXT,\n",
    "          customer_id TEXT,\n",
    "          order_status TEXT,\n",
    "          order_purchase_timestamp TEXT,\n",
    "          order_delivered_carrier_date TEXT,\n",
    "          order_delivered_customer_date TEXT,\n",
    "          order_estimated_delivery_date TEXT,\n",
    "          shipping_limit_date TEXT,\n",
    "          price REAL,\n",
    "          freight_value REAL,\n",
    "          product_categoryTEXT,\n",
    "          product_weight_g REAL,\n",
    "          product_length_cm REAL,\n",
    "          product_height_cm REAL,\n",
    "          product_width_cm REAL,\n",
    "          customer_city TEXT,\n",
    "          customer_state TEXT,\n",
    "          seller_city TEXT,\n",
    "          seller_state TEXT,\n",
    "          review_score text,\n",
    "          review_answer_timestamp TEXT,\n",
    "          review_comment_message TEXT,\n",
    "          sibert_result TEXT\n",
    "    )\n",
    "\"\"\")\n",
    "\n",
    "# Sometimes you may want to add documentation about your business terminology or definitions.\n",
    "vn.train(documentation=\"The database has only 1 table orders that contains details of the orders from an Brazilian E-commerce site. So the currency used will be Brazilian Real. sibert_result is the column in orders table which is the output of sentiment analysis saying whether the comment is positive or negative\")\n",
    "\n",
    "# You can also add SQL queries to your training data. This is useful if you have some queries already laying around. You can just copy and paste those from your editor to begin generating new SQL.\n",
    "vn.train(sql=\"SELECT * FROM orders WHERE order_id = '3b697a20d9e427646d92567910af6d57'\")"
   ]
  },
  {
   "cell_type": "code",
   "execution_count": 4,
   "id": "896e9571-cc98-4499-961e-4b1d64187e23",
   "metadata": {},
   "outputs": [
    {
     "data": {
      "text/plain": [
       "'e5e3fc985d06fa117a7711a7a48e7433-sql'"
      ]
     },
     "execution_count": 4,
     "metadata": {},
     "output_type": "execute_result"
    }
   ],
   "source": [
    "vn.train(\n",
    "    question=\"Which are the top 5 customers that ordered the most?\", \n",
    "    sql=\"SELECT customer_id, COUNT(order_id) AS order_count FROM orders GROUP BY customer_id ORDER BY order_count DESC LIMIT 5;\"\n",
    ")"
   ]
  },
  {
   "cell_type": "code",
   "execution_count": 13,
   "id": "60c39cb1-64fb-4196-9285-5bf992407917",
   "metadata": {},
   "outputs": [
    {
     "name": "stdout",
     "output_type": "stream",
     "text": [
      "Question generated with sql: What is the product category with the highest count of positive reviews? \n",
      "Adding SQL...\n"
     ]
    },
    {
     "data": {
      "text/plain": [
       "'b20e7298e11fa9548680c27a37ed156a-sql'"
      ]
     },
     "execution_count": 13,
     "metadata": {},
     "output_type": "execute_result"
    }
   ],
   "source": [
    "vn.train(sql=\"SELECT product_category, COUNT(*) AS positive_reviews_count FROM orders WHERE sibert_result = 'POSITIVE' GROUP BY product_category ORDER BY positive_reviews_count DESC LIMIT 1;\")"
   ]
  },
  {
   "cell_type": "code",
   "execution_count": 15,
   "id": "4f8a6c7b-fd37-407d-a09f-81dbac53a53c",
   "metadata": {},
   "outputs": [
    {
     "name": "stdout",
     "output_type": "stream",
     "text": [
      "Question generated with sql: What are the top 5 customers with the highest number of orders? \n",
      "Adding SQL...\n"
     ]
    },
    {
     "data": {
      "text/plain": [
       "'05d185387bc5d0b3d651a678882d8731-sql'"
      ]
     },
     "execution_count": 15,
     "metadata": {},
     "output_type": "execute_result"
    }
   ],
   "source": [
    "vn.train(sql=\"SELECT customer_id, COUNT(order_id) AS order_count FROM orders GROUP BY customer_id ORDER BY order_count DESC LIMIT 5;\")"
   ]
  },
  {
   "cell_type": "code",
   "execution_count": 16,
   "id": "abd854d3-4464-4a3f-9e11-53456a22ba91",
   "metadata": {},
   "outputs": [
    {
     "name": "stdout",
     "output_type": "stream",
     "text": [
      "Question generated with sql: How many orders were made on October 3, 2021? \n",
      "Adding SQL...\n"
     ]
    },
    {
     "data": {
      "text/plain": [
       "'1e0a05c2a601100246e2024c0684145e-sql'"
      ]
     },
     "execution_count": 16,
     "metadata": {},
     "output_type": "execute_result"
    }
   ],
   "source": [
    "vn.train(sql=\"SELECT COUNT(*) AS orders_count FROM orders WHERE order_purchase_timestamp = '2021-10-03';\")"
   ]
  },
  {
   "cell_type": "code",
   "execution_count": 17,
   "id": "264ef48c-9f37-491f-a610-9e59edb2c704",
   "metadata": {},
   "outputs": [
    {
     "name": "stdout",
     "output_type": "stream",
     "text": [
      "Question generated with sql: How many orders were made on October 3rd, 2021? \n",
      "Adding SQL...\n"
     ]
    },
    {
     "data": {
      "text/plain": [
       "'470eea7df8da752e4812797cfb4bff9d-sql'"
      ]
     },
     "execution_count": 17,
     "metadata": {},
     "output_type": "execute_result"
    }
   ],
   "source": [
    "vn.train(sql=\"SELECT COUNT(*) AS order_count FROM orders WHERE order_purchase_timestamp LIKE '2021-10-03%';\")"
   ]
  },
  {
   "cell_type": "code",
   "execution_count": 4,
   "id": "41a05f86-ee4a-4011-8c96-1db94c9bbba5",
   "metadata": {},
   "outputs": [
    {
     "name": "stdout",
     "output_type": "stream",
     "text": [
      "Question generated with sql: What are the top 10 product categories by total sales? \n",
      "Adding SQL...\n"
     ]
    },
    {
     "data": {
      "text/plain": [
       "'20106cafa0b8015d86b0150b67fa6805-sql'"
      ]
     },
     "execution_count": 4,
     "metadata": {},
     "output_type": "execute_result"
    }
   ],
   "source": [
    "vn.train(sql=\"SELECT product_category, SUM(price) AS total_sales FROM orders GROUP BY product_category ORDER BY total_sales DESC LIMIT 10;\")"
   ]
  },
  {
   "cell_type": "code",
   "execution_count": 6,
   "id": "612bf8a2-da82-4d50-bbbc-1b014a286250",
   "metadata": {},
   "outputs": [],
   "source": [
    "import pandas as pd\n",
    "pd.set_option('display.max_colwidth', None) # Show full content of each colum"
   ]
  },
  {
   "cell_type": "code",
   "execution_count": null,
   "id": "95589f6d-b2cd-47c0-a136-29c1084a4acb",
   "metadata": {},
   "outputs": [],
   "source": [
    "vn.train(sql=\"\")"
   ]
  },
  {
   "cell_type": "code",
   "execution_count": 7,
   "id": "5d321d01-d66f-5c5e-a3f3-e2d3d4330344",
   "metadata": {
    "id": "5d321d01-d66f-5c5e-a3f3-e2d3d4330344"
   },
   "outputs": [
    {
     "data": {
      "text/html": [
       "<div>\n",
       "<style scoped>\n",
       "    .dataframe tbody tr th:only-of-type {\n",
       "        vertical-align: middle;\n",
       "    }\n",
       "\n",
       "    .dataframe tbody tr th {\n",
       "        vertical-align: top;\n",
       "    }\n",
       "\n",
       "    .dataframe thead th {\n",
       "        text-align: right;\n",
       "    }\n",
       "</style>\n",
       "<table border=\"1\" class=\"dataframe\">\n",
       "  <thead>\n",
       "    <tr style=\"text-align: right;\">\n",
       "      <th></th>\n",
       "      <th>id</th>\n",
       "      <th>training_data_type</th>\n",
       "      <th>question</th>\n",
       "      <th>content</th>\n",
       "    </tr>\n",
       "  </thead>\n",
       "  <tbody>\n",
       "    <tr>\n",
       "      <th>0</th>\n",
       "      <td>1006026-doc</td>\n",
       "      <td>documentation</td>\n",
       "      <td>None</td>\n",
       "      <td>The database has only 1 table orders that contains details of the orders from an Brazilian E-commerce site. So the currency used will be Brazilian Real. sibert_result is the column in orders table which is the output of sentiment analysis saying whether the comment is positive or negative</td>\n",
       "    </tr>\n",
       "    <tr>\n",
       "      <th>1</th>\n",
       "      <td>317082-sql</td>\n",
       "      <td>sql</td>\n",
       "      <td>What are the top 5 customers with the highest number of orders?</td>\n",
       "      <td>SELECT customer_id, COUNT(order_id) AS order_count FROM orders GROUP BY customer_id ORDER BY order_count DESC LIMIT 5;</td>\n",
       "    </tr>\n",
       "    <tr>\n",
       "      <th>2</th>\n",
       "      <td>316978-sql</td>\n",
       "      <td>sql</td>\n",
       "      <td>What are the details of the order with the order ID '3b697a20d9e427646d92567910af6d57'?</td>\n",
       "      <td>SELECT * FROM orders WHERE order_id = '3b697a20d9e427646d92567910af6d57'</td>\n",
       "    </tr>\n",
       "    <tr>\n",
       "      <th>3</th>\n",
       "      <td>317039-sql</td>\n",
       "      <td>sql</td>\n",
       "      <td>Which are the top 5 customers that ordered the most?</td>\n",
       "      <td>SELECT customer_id, COUNT(order_id) AS order_count FROM orders GROUP BY customer_id ORDER BY order_count DESC LIMIT 5;</td>\n",
       "    </tr>\n",
       "    <tr>\n",
       "      <th>4</th>\n",
       "      <td>317173-sql</td>\n",
       "      <td>sql</td>\n",
       "      <td>How many orders were made on October 3rd, 2021?</td>\n",
       "      <td>SELECT COUNT(*) AS order_count FROM orders WHERE order_purchase_timestamp LIKE '2021-10-03%';</td>\n",
       "    </tr>\n",
       "    <tr>\n",
       "      <th>5</th>\n",
       "      <td>316979-sql</td>\n",
       "      <td>sql</td>\n",
       "      <td>What are the details of the order with the order_id 3b697a20d9e427646d92567910af6d57?</td>\n",
       "      <td>SELECT * FROM orders WHERE order_id = '3b697a20d9e427646d92567910af6d57'</td>\n",
       "    </tr>\n",
       "    <tr>\n",
       "      <th>6</th>\n",
       "      <td>170545-ddl</td>\n",
       "      <td>ddl</td>\n",
       "      <td>None</td>\n",
       "      <td>CREATE TABLE IF NOT EXISTS orders (\\n          order_id TEXT,\\n          customer_id TEXT,\\n          order_status TEXT,\\n          order_purchase_timestamp TEXT,\\n          order_delivered_carrier_date TEXT,\\n          order_delivered_customer_date TEXT,\\n          order_estimated_delivery_date TEXT,\\n          shipping_limit_date TEXT,\\n          price REAL,\\n          freight_value REAL,\\n          product_categoryTEXT,\\n          product_weight_g REAL,\\n          product_length_cm REAL,\\n          product_height_cm REAL,\\n          product_width_cm REAL,\\n          customer_city TEXT,\\n          customer_state TEXT,\\n          seller_city TEXT,\\n          seller_state TEXT,\\n          review_score text,\\n          review_answer_timestamp TEXT,\\n          review_comment_message TEXT,\\n          sibert_result TEXT\\n    )\\n</td>\n",
       "    </tr>\n",
       "    <tr>\n",
       "      <th>7</th>\n",
       "      <td>317079-sql</td>\n",
       "      <td>sql</td>\n",
       "      <td>What is the product category with the highest count of positive reviews?</td>\n",
       "      <td>SELECT product_category, COUNT(*) AS positive_reviews_count FROM orders WHERE sibert_result = 'POSITIVE' GROUP BY product_category ORDER BY positive_reviews_count DESC LIMIT 1;</td>\n",
       "    </tr>\n",
       "    <tr>\n",
       "      <th>8</th>\n",
       "      <td>399871-sql</td>\n",
       "      <td>sql</td>\n",
       "      <td>What are the top 10 product categories by total sales?</td>\n",
       "      <td>SELECT product_category, SUM(price) AS total_sales FROM orders GROUP BY product_category ORDER BY total_sales DESC LIMIT 10;</td>\n",
       "    </tr>\n",
       "  </tbody>\n",
       "</table>\n",
       "</div>"
      ],
      "text/plain": [
       "            id training_data_type  \\\n",
       "0  1006026-doc      documentation   \n",
       "1   317082-sql                sql   \n",
       "2   316978-sql                sql   \n",
       "3   317039-sql                sql   \n",
       "4   317173-sql                sql   \n",
       "5   316979-sql                sql   \n",
       "6   170545-ddl                ddl   \n",
       "7   317079-sql                sql   \n",
       "8   399871-sql                sql   \n",
       "\n",
       "                                                                                  question  \\\n",
       "0                                                                                     None   \n",
       "1                          What are the top 5 customers with the highest number of orders?   \n",
       "2  What are the details of the order with the order ID '3b697a20d9e427646d92567910af6d57'?   \n",
       "3                                     Which are the top 5 customers that ordered the most?   \n",
       "4                                          How many orders were made on October 3rd, 2021?   \n",
       "5    What are the details of the order with the order_id 3b697a20d9e427646d92567910af6d57?   \n",
       "6                                                                                     None   \n",
       "7                 What is the product category with the highest count of positive reviews?   \n",
       "8                                   What are the top 10 product categories by total sales?   \n",
       "\n",
       "                                                                                                                                                                                                                                                                                                                                                                                                                                                                                                                                                                                                                                                                                                                                                                                                                                                                content  \n",
       "0                                                                                                                                                                                                                                                                                                                                                                                                                                                                                                                                                                     The database has only 1 table orders that contains details of the orders from an Brazilian E-commerce site. So the currency used will be Brazilian Real. sibert_result is the column in orders table which is the output of sentiment analysis saying whether the comment is positive or negative  \n",
       "1                                                                                                                                                                                                                                                                                                                                                                                                                                                                                                                                                                                                                                                                                                                                                SELECT customer_id, COUNT(order_id) AS order_count FROM orders GROUP BY customer_id ORDER BY order_count DESC LIMIT 5;  \n",
       "2                                                                                                                                                                                                                                                                                                                                                                                                                                                                                                                                                                                                                                                                                                                                                                                              SELECT * FROM orders WHERE order_id = '3b697a20d9e427646d92567910af6d57'  \n",
       "3                                                                                                                                                                                                                                                                                                                                                                                                                                                                                                                                                                                                                                                                                                                                                SELECT customer_id, COUNT(order_id) AS order_count FROM orders GROUP BY customer_id ORDER BY order_count DESC LIMIT 5;  \n",
       "4                                                                                                                                                                                                                                                                                                                                                                                                                                                                                                                                                                                                                                                                                                                                                                         SELECT COUNT(*) AS order_count FROM orders WHERE order_purchase_timestamp LIKE '2021-10-03%';  \n",
       "5                                                                                                                                                                                                                                                                                                                                                                                                                                                                                                                                                                                                                                                                                                                                                                                              SELECT * FROM orders WHERE order_id = '3b697a20d9e427646d92567910af6d57'  \n",
       "6  CREATE TABLE IF NOT EXISTS orders (\\n          order_id TEXT,\\n          customer_id TEXT,\\n          order_status TEXT,\\n          order_purchase_timestamp TEXT,\\n          order_delivered_carrier_date TEXT,\\n          order_delivered_customer_date TEXT,\\n          order_estimated_delivery_date TEXT,\\n          shipping_limit_date TEXT,\\n          price REAL,\\n          freight_value REAL,\\n          product_categoryTEXT,\\n          product_weight_g REAL,\\n          product_length_cm REAL,\\n          product_height_cm REAL,\\n          product_width_cm REAL,\\n          customer_city TEXT,\\n          customer_state TEXT,\\n          seller_city TEXT,\\n          seller_state TEXT,\\n          review_score text,\\n          review_answer_timestamp TEXT,\\n          review_comment_message TEXT,\\n          sibert_result TEXT\\n    )\\n  \n",
       "7                                                                                                                                                                                                                                                                                                                                                                                                                                                                                                                                                                                                                                                                                      SELECT product_category, COUNT(*) AS positive_reviews_count FROM orders WHERE sibert_result = 'POSITIVE' GROUP BY product_category ORDER BY positive_reviews_count DESC LIMIT 1;  \n",
       "8                                                                                                                                                                                                                                                                                                                                                                                                                                                                                                                                                                                                                                                                                                                                          SELECT product_category, SUM(price) AS total_sales FROM orders GROUP BY product_category ORDER BY total_sales DESC LIMIT 10;  "
      ]
     },
     "execution_count": 7,
     "metadata": {},
     "output_type": "execute_result"
    }
   ],
   "source": [
    "# At any time you can inspect what training data the package is able to reference\n",
    "training_data = vn.get_training_data()\n",
    "training_data"
   ]
  },
  {
   "cell_type": "code",
   "execution_count": 19,
   "id": "6cf17ab9-dc48-58af-8d75-4e5590a01c88",
   "metadata": {
    "id": "6cf17ab9-dc48-58af-8d75-4e5590a01c88"
   },
   "outputs": [
    {
     "data": {
      "text/plain": [
       "True"
      ]
     },
     "execution_count": 19,
     "metadata": {},
     "output_type": "execute_result"
    }
   ],
   "source": [
    "# You can remove training data if there's obsolete/incorrect information.\n",
    "vn.remove_training_data(id='317167-sql')"
   ]
  },
  {
   "cell_type": "markdown",
   "id": "bf2fc121-a3ab-5a2e-95b0-383271e82d5f",
   "metadata": {
    "id": "bf2fc121-a3ab-5a2e-95b0-383271e82d5f"
   },
   "source": [
    "## Asking the AI\n",
    "Whenever you ask a new question, it will find the 10 most relevant pieces of training data and use it as part of the LLM prompt to generate the SQL."
   ]
  },
  {
   "cell_type": "code",
   "execution_count": null,
   "id": "82e76b1b-9c3b-49d0-9153-8152ea52edf3",
   "metadata": {},
   "outputs": [
    {
     "name": "stdout",
     "output_type": "stream",
     "text": [
      "[{'role': 'system', 'content': \"You are a SQLite expert. Please help to generate a SQL query to answer the question. Your response should ONLY be based on the given context and follow the response guidelines and format instructions. \\n===Tables \\nCREATE TABLE IF NOT EXISTS orders (\\n          order_id TEXT,\\n          customer_id TEXT,\\n          order_status TEXT,\\n          order_purchase_timestamp TEXT,\\n          order_delivered_carrier_date TEXT,\\n          order_delivered_customer_date TEXT,\\n          order_estimated_delivery_date TEXT,\\n          shipping_limit_date TEXT,\\n          price REAL,\\n          freight_value REAL,\\n          product_categoryTEXT,\\n          product_weight_g REAL,\\n          product_length_cm REAL,\\n          product_height_cm REAL,\\n          product_width_cm REAL,\\n          customer_city TEXT,\\n          customer_state TEXT,\\n          seller_city TEXT,\\n          seller_state TEXT,\\n          review_score text,\\n          review_answer_timestamp TEXT,\\n          review_comment_message TEXT,\\n          sibert_result TEXT\\n    )\\n\\n\\n\\n===Additional Context \\n\\nThe database has only 1 table orders that contains details of the orders from an Brazilian E-commerce site. So the currency used will be Brazilian Real. sibert_result is the column in orders table which is the output of sentiment analysis saying whether the comment is positive or negative\\n\\n===Response Guidelines \\n1. If the provided context is sufficient, please generate a valid SQL query without any explanations for the question. \\n2. If the provided context is almost sufficient but requires knowledge of a specific string in a particular column, please generate an intermediate SQL query to find the distinct strings in that column. Prepend the query with a comment saying intermediate_sql \\n3. If the provided context is insufficient, please explain why it can't be generated. \\n4. Please use the most relevant table(s). \\n5. If the question has been asked and answered before, please repeat the answer exactly as it was given before. \\n\"}, {'role': 'user', 'content': \"What are the details of the order with the order ID '3b697a20d9e427646d92567910af6d57'?\"}, {'role': 'assistant', 'content': \"SELECT * FROM orders WHERE order_id = '3b697a20d9e427646d92567910af6d57'\"}, {'role': 'user', 'content': 'What are the details of the order with the order_id 3b697a20d9e427646d92567910af6d57?'}]\n",
      "SELECT * FROM orders WHERE order_id = '3b697a20d9e427646d92567910af6d57'\n",
      "SELECT * FROM orders WHERE order_id = '3b697a20d9e427646d92567910af6d57'\n",
      "                           order_id                       customer_id  \\\n",
      "0  3b697a20d9e427646d92567910af6d57  355077684019f7f60a031656bd7262b8   \n",
      "\n",
      "  order_status order_purchase_timestamp order_delivered_carrier_date  \\\n",
      "0    delivered      2021-10-03 09:44:00          2021-10-23 14:02:00   \n",
      "\n",
      "  order_delivered_customer_date order_estimated_delivery_date  \\\n",
      "0           2021-10-26 14:02:00                    2021-10-27   \n",
      "\n",
      "   shipping_limit_date  price  freight_value  ... product_height_cm  \\\n",
      "0  2021-10-21 16:27:20   29.9          15.56  ...              16.0   \n",
      "\n",
      "   product_width_cm  customer_city  customer_state  seller_city seller_state  \\\n",
      "0              16.0      sao paulo       São Paulo     cascavel       Paraná   \n",
      "\n",
      "  review_score review_answer_timestamp        review_comment_message  \\\n",
      "0          4.0     2021-10-30 21:32:15  Ease of handling the device.   \n",
      "\n",
      "   sibert_result  \n",
      "0       POSITIVE  \n",
      "\n",
      "[1 rows x 23 columns]\n"
     ]
    }
   ],
   "source": [
    "vn.ask(question=\"What are the details of the order with the order_id 3b697a20d9e427646d92567910af6d57?\")"
   ]
  }
 ],
 "metadata": {
  "colab": {
   "provenance": []
  },
  "kernelspec": {
   "display_name": "Python 3 (ipykernel)",
   "language": "python",
   "name": "python3"
  },
  "language_info": {
   "codemirror_mode": {
    "name": "ipython",
    "version": 3
   },
   "file_extension": ".py",
   "mimetype": "text/x-python",
   "name": "python",
   "nbconvert_exporter": "python",
   "pygments_lexer": "ipython3",
   "version": "3.10.4"
  }
 },
 "nbformat": 4,
 "nbformat_minor": 5
}
